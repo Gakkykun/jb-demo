{
 "cells": [
  {
   "cell_type": "markdown",
   "id": "87b363e7",
   "metadata": {},
   "source": [
    "# Lake Malome Study Notebook"
   ]
  },
  {
   "cell_type": "code",
   "execution_count": null,
   "id": "0b6ad246",
   "metadata": {},
   "outputs": [],
   "source": [
    "import ee\n",
    "# Initialize the Earth Engine module.\n",
    "ee.Initialize()"
   ]
  },
  {
   "cell_type": "code",
   "execution_count": null,
   "id": "4d4d6a5c",
   "metadata": {},
   "outputs": [],
   "source": [
    "from util import *"
   ]
  },
  {
   "cell_type": "markdown",
   "id": "abccb491",
   "metadata": {},
   "source": [
    "## Figure 2"
   ]
  },
  {
   "cell_type": "code",
   "execution_count": null,
   "id": "6ff38344",
   "metadata": {},
   "outputs": [],
   "source": [
    "startDate1 = '2019-05-08'\n",
    "endDate1 = '2019-05-12'\n",
    "\n",
    "startDate2 = '2019-06-22'\n",
    "endDate2 = '2019-06-24'\n",
    "\n",
    "startDate3 = '2019-07-10'\n",
    "endDate3 = '2019-07-20'\n",
    "\n",
    "startDate4 = '2019-08-16'\n",
    "endDate4 = '2019-08-21'\n",
    "\n",
    "startDate5 = '2019-09-10'\n",
    "endDate5 = '2019-09-12'\n",
    "\n",
    "startDate6 = '2019-10-15'\n",
    "endDate6 = '2019-10-17'"
   ]
  },
  {
   "cell_type": "markdown",
   "id": "f5037306",
   "metadata": {},
   "source": [
    "### Calibration"
   ]
  },
  {
   "cell_type": "code",
   "execution_count": null,
   "id": "4f2b7239",
   "metadata": {},
   "outputs": [],
   "source": [
    "# Sampling locations in June, 2019\n",
    "west_jun = ee.Geometry.Point([35.202406, -14.667367])\n",
    "outlet_jun = ee.Geometry.Point([35.251639, -14.748801])\n",
    "middle_jun = ee.Geometry.Point([35.248367, -14.628858])\n",
    "inlet_jun = ee.Geometry.Point([35.257927, -14.538845])\n",
    "east_jun = ee.Geometry.Point([35.31461, -14.631364])\n",
    "\n",
    "# Sampling locations in September, 2019\n",
    "west_sep = ee.Geometry.Point([35.202406, -14.667367])\n",
    "outlet_sep = ee.Geometry.Point([35.251639, -14.748801])\n",
    "middle_sep = ee.Geometry.Point([35.248367, -14.628858])\n",
    "inlet_sep = ee.Geometry.Point([35.257927, -14.538845])\n",
    "east_sep = ee.Geometry.Point([35.31461, -14.631364])"
   ]
  },
  {
   "cell_type": "code",
   "execution_count": null,
   "id": "04515692",
   "metadata": {},
   "outputs": [],
   "source": [
    "withChla_w6 = mean_image_S2(west_jun, startDate2, endDate2).map(addNDCI_S2).select('NDCI')\n",
    "withChla_o6 = mean_image_S2(outlet_jun, startDate2, endDate2).map(addNDCI_S2).select('NDCI')\n",
    "withChla_m6 = mean_image_S2(middle_jun, startDate2, endDate2).map(addNDCI_S2).select('NDCI')\n",
    "withChla_i6 = mean_image_S2(inlet_jun, startDate2, endDate2).map(addNDCI_S2).select('NDCI')\n",
    "withChla_e6 = mean_image_S2(east_jun, startDate2, endDate2).map(addNDCI_S2).select('NDCI')\n",
    "\n",
    "withChla_w9 = mean_image_S2(west_sep, startDate5, endDate5).map(addNDCI_S2).select('NDCI')\n",
    "withChla_o9 = mean_image_S2(outlet_sep, startDate5, endDate5).map(addNDCI_S2).select('NDCI')\n",
    "withChla_m9 = mean_image_S2(middle_sep, startDate5, endDate5).map(addNDCI_S2).select('NDCI')\n",
    "withChla_i9 = mean_image_S2(inlet_sep, startDate5, endDate5).map(addNDCI_S2).select('NDCI')\n",
    "withChla_e9 = mean_image_S2(east_sep, startDate5, endDate5).map(addNDCI_S2).select('NDCI')"
   ]
  },
  {
   "cell_type": "code",
   "execution_count": null,
   "id": "4cf2f263",
   "metadata": {},
   "outputs": [],
   "source": [
    "bounds_west_jun = west_jun.buffer(300) \n",
    "bounds_outlet_jun = outlet_jun.buffer(300) \n",
    "bounds_middle_jun =  middle_jun.buffer(300) \n",
    "bounds_inlet_jun = inlet_jun.buffer(300) \n",
    "bounds_east_jun = east_jun.buffer(300) \n",
    "\n",
    "bounds_west_sep = west_sep.buffer(300) \n",
    "bounds_outlet_sep = outlet_sep.buffer(300) \n",
    "bounds_middle_sep = middle_sep.buffer(300) \n",
    "bounds_inlet_sep = inlet_sep.buffer(300) \n",
    "bounds_east_sep = east_sep.buffer(300) "
   ]
  },
  {
   "cell_type": "code",
   "execution_count": null,
   "id": "f4c30709",
   "metadata": {},
   "outputs": [],
   "source": [
    "chla_df_w6 = dataframe_prod(withChla_w6, bounds_west_jun, 'NDCI')\n",
    "chla_df_o6 = dataframe_prod(withChla_o6, bounds_outlet_jun, 'NDCI')\n",
    "chla_df_m6 = dataframe_prod(withChla_m6, bounds_middle_jun, 'NDCI')\n",
    "chla_df_i6 = dataframe_prod(withChla_i6, bounds_inlet_jun, 'NDCI')\n",
    "chla_df_e6 = dataframe_prod(withChla_e6, bounds_east_jun, 'NDCI')\n",
    "\n",
    "chla_df_w9 = dataframe_prod(withChla_w9, bounds_west_sep, 'NDCI') \n",
    "chla_df_o9 = dataframe_prod(withChla_o9, bounds_outlet_sep, 'NDCI') \n",
    "chla_df_m9 = dataframe_prod(withChla_m9, bounds_middle_sep, 'NDCI') \n",
    "chla_df_i9 = dataframe_prod(withChla_i9, bounds_inlet_sep, 'NDCI') \n",
    "chla_df_e9 = dataframe_prod(withChla_e9, bounds_east_sep, 'NDCI')"
   ]
  },
  {
   "cell_type": "code",
   "execution_count": null,
   "id": "f8635e9a",
   "metadata": {},
   "outputs": [],
   "source": [
    "S_NDCI = np.concatenate((chla_df_w6['NDCI'].values,\\\n",
    "                         chla_df_o6['NDCI'].values,\\\n",
    "                         chla_df_m6['NDCI'].values,\\\n",
    "                         np.array([chla_df_i6['NDCI'].values.mean()]),\\\n",
    "                         chla_df_e6['NDCI'].values,\\\n",
    "                         chla_df_w9['NDCI'].values,\\\n",
    "                         chla_df_o9['NDCI'].values,\\\n",
    "                         chla_df_m9['NDCI'].values,\\\n",
    "                         np.array([chla_df_i9['NDCI'].values.mean()]),\\\n",
    "                         chla_df_e9['NDCI'].values\\\n",
    "                        ), axis=0) "
   ]
  },
  {
   "cell_type": "code",
   "execution_count": null,
   "id": "02256011",
   "metadata": {},
   "outputs": [],
   "source": [
    "# In-situ data\n",
    "chla_jun = np.array([3.1128, 4.5416, 3.7401, 3.1390, 2.6231])\n",
    "chla_sep = np.array([13.3576, 6.5588, 5.2463, 9.3652, 7.5128])\n",
    "\n",
    "chla_insitu =np.concatenate((chla_jun, chla_sep), axis=0)\n",
    "\n",
    "plt.xlabel('Satellite derived NDCI')\n",
    "plt.ylabel('In-situ Chal [$mg/m^3$]')\n",
    "plt.scatter(S_NDCI, chla_insitu, color='k');"
   ]
  },
  {
   "cell_type": "markdown",
   "id": "780071ff",
   "metadata": {},
   "source": [
    "![](./lake-malombe-figure-2-1.png \"Lake Malombe Figure 2-1\")"
   ]
  },
  {
   "cell_type": "code",
   "execution_count": null,
   "id": "67378c8f",
   "metadata": {},
   "outputs": [],
   "source": [
    "def NDCI_algorithm(x):\n",
    "    return 9.547 + 104.809*x + 431.976*x**2"
   ]
  },
  {
   "cell_type": "code",
   "execution_count": null,
   "id": "e884b407",
   "metadata": {},
   "outputs": [],
   "source": [
    "NDCI_v = np.vectorize(NDCI_algorithm)\n",
    "Yhat = NDCI_v(S_NDCI)\n",
    "Y = chla_insitu\n",
    "\n",
    "d1 = Y - Yhat\n",
    "d2 = Y - Y.mean()\n",
    "r2 = 1-d1.dot(d1)/d2.dot(d2)"
   ]
  },
  {
   "cell_type": "code",
   "execution_count": null,
   "id": "f8fc7d07",
   "metadata": {},
   "outputs": [],
   "source": [
    "p = np.poly1d(np.polyfit(S_NDCI, chla_insitu,2))\n",
    "t = np.linspace(-0.125, 0.05, 100)\n",
    "plt.xlabel('Satellite derived NDCI')\n",
    "plt.ylabel('In-situ Chal [$mg/m^3$]')\n",
    "plt.title(f'$R^2$ = {round(r2, 2)}')\n",
    "plt.plot(S_NDCI, chla_insitu, 'o', t, p(t), '-', color='k');"
   ]
  },
  {
   "cell_type": "markdown",
   "id": "fac42341",
   "metadata": {},
   "source": [
    "![](./lake-malombe-figure-2-2.png \"Lake Malombe Figure 2-2\")"
   ]
  },
  {
   "cell_type": "code",
   "execution_count": null,
   "id": "4680f9c7",
   "metadata": {},
   "outputs": [],
   "source": [
    "fig, ax = plt.subplots(figsize=(10.5,7))\n",
    "ax = sns.regplot(x=S_NDCI, y=chla_insitu, ci=95, order=2, color='k', line_kws={'label': 'Regression line'})\n",
    "ax.set_ylim([0,16])\n",
    "ax.set_xlabel('Satellite-derived NDCI')\n",
    "ax.set_ylabel('In-situ Chal [$mg/m^3$]')\n",
    "ax.set_title(f'$R^2$ = {round(r2, 2)}')\n",
    "ax.collections[1].set_label('Confidence interval')\n",
    "ax.legend(loc='upper left');"
   ]
  },
  {
   "cell_type": "markdown",
   "id": "cbb20711",
   "metadata": {},
   "source": [
    "![](./lake-malombe-figure-2-3.png \"Lake Malombe Figure 2-3\")\n",
    "\n",
    "### Validation"
   ]
  },
  {
   "cell_type": "code",
   "execution_count": null,
   "id": "9dc333e1",
   "metadata": {},
   "outputs": [],
   "source": [
    "# Sampling locations in May, 2019\n",
    "west_may = ee.Geometry.Point([35.202981, -14.639683])\n",
    "outlet_may = ee.Geometry.Point([35.264812, -14.724981])\n",
    "middle_may = ee.Geometry.Point([35.238484, -14.618457])\n",
    "inlet_may = ee.Geometry.Point([35.236233, -14.53507])\n",
    "east_may = ee.Geometry.Point([35.300301, -14.60977])\n",
    "\n",
    "# Sampling locations in July, 2019\n",
    "west_jul = ee.Geometry.Point([35.201257, -14.681778])\n",
    "outlet_jul = ee.Geometry.Point([35.231031, -14.746615])\n",
    "middle_jul = ee.Geometry.Point([35.239606, -14.628442])\n",
    "inlet_jul = ee.Geometry.Point([35.259763, -14.552618])\n",
    "east_jul = ee.Geometry.Point([35.323783, -14.641138])\n",
    "\n",
    "# Sampling locations in August, 2019\n",
    "west_aug = ee.Geometry.Point([35.202981, -14.639683])\n",
    "outlet_aug = ee.Geometry.Point([35.264812, -14.724981])\n",
    "middle_aug = ee.Geometry.Point([35.238484, -14.618457])\n",
    "inlet_aug = ee.Geometry.Point([35.236233, -14.53507])\n",
    "east_aug = ee.Geometry.Point([35.300301, -14.60977])\n",
    "\n",
    "# Sampling locations in October, 2019\n",
    "west_oct = ee.Geometry.Point([35.201257, -14.681778])\n",
    "outlet_oct = ee.Geometry.Point([35.231031, -14.746615])\n",
    "middle_oct = ee.Geometry.Point([35.239606, -14.628442])\n",
    "inlet_oct = ee.Geometry.Point([35.259763, -14.552618])\n",
    "east_oct = ee.Geometry.Point([35.323783, -14.641138])"
   ]
  },
  {
   "cell_type": "code",
   "execution_count": null,
   "id": "c0e4d2b7",
   "metadata": {},
   "outputs": [],
   "source": [
    "withChla_w5 = mean_image_S2(west_may, startDate1, endDate1).map(addNDCI_S2).select('NDCI')\n",
    "withChla_o5 = mean_image_S2(outlet_may, startDate1, endDate1).map(addNDCI_S2).select('NDCI')\n",
    "withChla_m5 = mean_image_S2(middle_may, startDate1, endDate1).map(addNDCI_S2).select('NDCI')\n",
    "withChla_i5 = mean_image_S2(inlet_may, startDate1, endDate1).map(addNDCI_S2).select('NDCI')\n",
    "withChla_e5 = mean_image_S2(east_may, startDate1, endDate1).map(addNDCI_S2).select('NDCI')\n",
    "\n",
    "withChla_w7 = mean_image_S2(west_jul, startDate3, endDate3).map(addNDCI_S2).select('NDCI')\n",
    "withChla_o7 = mean_image_S2(outlet_jul, startDate3, endDate3).map(addNDCI_S2).select('NDCI')\n",
    "withChla_m7 = mean_image_S2(middle_jul, startDate3, endDate3).map(addNDCI_S2).select('NDCI')\n",
    "withChla_i7 = mean_image_S2(inlet_jul, startDate3, endDate3).map(addNDCI_S2).select('NDCI')\n",
    "\n",
    "withChla_w8 = mean_image_S2(west_aug, startDate4, endDate4).map(addNDCI_S2).select('NDCI')\n",
    "withChla_o8 = mean_image_S2(outlet_aug, startDate4, endDate4).map(addNDCI_S2).select('NDCI')\n",
    "withChla_m8 = mean_image_S2(middle_aug, startDate4, endDate4).map(addNDCI_S2).select('NDCI')\n",
    "withChla_i8 = mean_image_S2(inlet_aug, startDate4, endDate4).map(addNDCI_S2).select('NDCI')\n",
    "withChla_e8 = mean_image_S2(east_aug, startDate4, endDate4).map(addNDCI_S2).select('NDCI')\n",
    "\n",
    "withChla_w10 = mean_image_S2(west_oct, startDate6, endDate6).map(addNDCI_S2).select('NDCI')\n",
    "withChla_o10 = mean_image_S2(outlet_oct, startDate6, endDate6).map(addNDCI_S2).select('NDCI')\n",
    "withChla_m10 = mean_image_S2(middle_oct, startDate6, endDate6).map(addNDCI_S2).select('NDCI')\n",
    "withChla_i10 = mean_image_S2(inlet_oct, startDate6, endDate6).map(addNDCI_S2).select('NDCI')\n",
    "withChla_e10 = mean_image_S2(east_oct, startDate6, endDate6).map(addNDCI_S2).select('NDCI')"
   ]
  },
  {
   "cell_type": "code",
   "execution_count": null,
   "id": "54db9ad4",
   "metadata": {},
   "outputs": [],
   "source": [
    "bounds_west_may = west_may.buffer(300) \n",
    "bounds_outlet_may = outlet_may.buffer(300) \n",
    "bounds_middle_may =  middle_may.buffer(300) \n",
    "bounds_inlet_may = inlet_may.buffer(300) \n",
    "bounds_east_may = east_may.buffer(300) \n",
    " \n",
    "bounds_west_jul = west_jul.buffer(300) \n",
    "bounds_outlet_jul = outlet_jul.buffer(300) \n",
    "bounds_middle_jul = middle_jul.buffer(300) \n",
    "bounds_inlet_jul = inlet_jul.buffer(300)  \n",
    "bounds_east_jul = east_jul.buffer(300) \n",
    "\n",
    "bounds_west_aug = west_aug.buffer(300) \n",
    "bounds_outlet_aug = outlet_aug.buffer(300) \n",
    "bounds_middle_aug = middle_aug.buffer(300) \n",
    "bounds_inlet_aug = inlet_aug.buffer(300)  \n",
    "bounds_east_aug = east_aug.buffer(300) \n",
    " \n",
    "bounds_west_oct = west_oct.buffer(300) \n",
    "bounds_outlet_oct = outlet_oct.buffer(300) \n",
    "bounds_middle_oct = middle_oct.buffer(300) \n",
    "bounds_inlet_oct = inlet_oct.buffer(300) \n",
    "bounds_east_oct = east_oct.buffer(300)"
   ]
  },
  {
   "cell_type": "code",
   "execution_count": null,
   "id": "a6a0593e",
   "metadata": {},
   "outputs": [],
   "source": [
    "chla_df_w5 = dataframe_prod(withChla_w5, bounds_west_may, 'NDCI')\n",
    "chla_df_o5 = dataframe_prod(withChla_o5, bounds_outlet_may, 'NDCI')\n",
    "chla_df_m5 = dataframe_prod(withChla_m5, bounds_middle_may, 'NDCI')\n",
    "chla_df_i5 = dataframe_prod(withChla_i5, bounds_inlet_may, 'NDCI')\n",
    "chla_df_e5 = dataframe_prod(withChla_e5, bounds_east_may, 'NDCI')\n",
    "\n",
    "chla_df_w7 = dataframe_prod(withChla_w7, bounds_west_jul, 'NDCI')\n",
    "chla_df_o7 = dataframe_prod(withChla_o7, bounds_outlet_jul, 'NDCI')\n",
    "chla_df_m7 = dataframe_prod(withChla_m7, bounds_middle_jul, 'NDCI')\n",
    "chla_df_i7 = dataframe_prod(withChla_i7, bounds_inlet_jul, 'NDCI')\n",
    "\n",
    "chla_df_w8 = dataframe_prod(withChla_w8, bounds_west_aug, 'NDCI')\n",
    "chla_df_o8 = dataframe_prod(withChla_o8, bounds_outlet_aug, 'NDCI')\n",
    "chla_df_m8 = dataframe_prod(withChla_m8, bounds_middle_aug, 'NDCI')\n",
    "chla_df_i8 = dataframe_prod(withChla_i8, bounds_inlet_aug, 'NDCI')\n",
    "chla_df_e8 = dataframe_prod(withChla_e8, bounds_east_aug, 'NDCI')\n",
    "\n",
    "chla_df_w10 = dataframe_prod(withChla_w10, bounds_west_oct, 'NDCI') \n",
    "chla_df_o10 = dataframe_prod(withChla_o10, bounds_outlet_oct, 'NDCI') \n",
    "chla_df_m10 = dataframe_prod(withChla_m10, bounds_middle_oct, 'NDCI') \n",
    "chla_df_i10 = dataframe_prod(withChla_i10, bounds_inlet_oct, 'NDCI') \n",
    "chla_df_e10 = dataframe_prod(withChla_e10, bounds_east_oct, 'NDCI') "
   ]
  },
  {
   "cell_type": "code",
   "execution_count": null,
   "id": "1b83c6cc",
   "metadata": {},
   "outputs": [],
   "source": [
    "S_NDCI_val = np.concatenate((chla_df_w5['NDCI'].values,\\\n",
    "                             chla_df_o5['NDCI'].values,\\\n",
    "                             chla_df_m5['NDCI'].values,\\\n",
    "                             np.array([chla_df_i5['NDCI'].values.mean()]),\\\n",
    "                             chla_df_e5['NDCI'].values,\\\n",
    "                             chla_df_w7['NDCI'].values,\\\n",
    "                             chla_df_o7['NDCI'].values,\\\n",
    "                             chla_df_m7['NDCI'].values,\\\n",
    "                             chla_df_i7['NDCI'].values,\\\n",
    "                             chla_df_w8['NDCI'].values,\\\n",
    "                             chla_df_o8['NDCI'].values,\\\n",
    "                             chla_df_m8['NDCI'].values,\\\n",
    "                             np.array([chla_df_i8['NDCI'].values.mean()]),\\\n",
    "                             chla_df_e8['NDCI'].values,\\\n",
    "                             chla_df_w10['NDCI'].values,\\\n",
    "                             chla_df_o10['NDCI'].values,\\\n",
    "                             chla_df_m10['NDCI'].values,\\\n",
    "                             chla_df_i10['NDCI'].values,\\\n",
    "                             chla_df_e10['NDCI'].values\\\n",
    "                        ), axis=0) "
   ]
  },
  {
   "cell_type": "code",
   "execution_count": null,
   "id": "c153a13f",
   "metadata": {},
   "outputs": [],
   "source": [
    "# In-situ data\n",
    "chla_may = np.array([3.9182, 3.6110, 2.0985, 2.0985, 3.2866])\n",
    "chla_jul = np.array([3.2195, 4.6712, 3.4762, 4.2744])\n",
    "chla_aug = np.array([11.1313, 6.2017, 8.9199, 3.1478, 8.7450])\n",
    "chla_oct = np.array([12.2135, 9.4616, 4.5621, 13.3576, 6.7654])\n",
    "\n",
    "chla_insitu_val =np.concatenate((chla_may, chla_jul, chla_aug, chla_oct), axis=0)"
   ]
  },
  {
   "cell_type": "code",
   "execution_count": null,
   "id": "85d9d60e",
   "metadata": {},
   "outputs": [],
   "source": [
    "X_sat = NDCI_v(S_NDCI_val)\n",
    "Y_insitu = chla_insitu_val\n",
    "rmse = np.sqrt(np.mean((X_sat[1:] - Y_insitu[1:])**2))\n",
    "\n",
    "fig = plt.figure(figsize=(10.5,7))\n",
    "plt.xlabel('Satellite derived Chl-a [$mg/m^3$]')\n",
    "plt.ylabel('In-situ Chl-a [$mg/m^3$]')\n",
    "plt.title(f'Validation\\nRMSE = {round(rmse, 2)}')\n",
    "plt.scatter(X_sat[:], Y_insitu[:], color='k')\n",
    "plt.ylim([0,16])\n",
    "\n",
    "x_vals = np.linspace(0,15,100)\n",
    "y_vals = x_vals\n",
    "plt.plot(x_vals, y_vals, 'k--');"
   ]
  },
  {
   "cell_type": "markdown",
   "id": "81a9c237",
   "metadata": {},
   "source": [
    "![](./lake-malombe-figure-2-4.png \"Lake Malombe Figure 2-4\")"
   ]
  },
  {
   "cell_type": "code",
   "execution_count": null,
   "id": "73e37479",
   "metadata": {},
   "outputs": [],
   "source": [
    "plt.rcParams.update({'font.size': 22})\n",
    "_, axs = plt.subplots(1, 2, figsize=(20, 10), edgecolor='black', constrained_layout=True, dpi=600)\n",
    "\n",
    "ax= axs[0]\n",
    "sns.regplot(ax=ax, x=S_NDCI, y=chla_insitu, ci=95, order=2, color='k', scatter_kws={'s':150}, line_kws={'label': 'Regression line'})\n",
    "# ax.set_ylim([0,16])\n",
    "ax.set_xlabel('Satellite-derived NDCI')\n",
    "ax.set_ylabel('Measured Chl-a [$mg/m^3$]')\n",
    "# ax.set_title(f'$R^2$ = {round(r2, 2)}')\n",
    "ax.set_title('(a) Calibration')\n",
    "ax.collections[1].set_label('Confidence interval')\n",
    "ax.legend(loc='upper left')\n",
    "\n",
    "ax = axs[1]\n",
    "ax.set_xlabel('Predicted Chl-a [$mg/m^3$]')\n",
    "ax.set_ylabel('Measured Chl-a [$mg/m^3$]')\n",
    "# ax.set_title(f'Validation\\nRMSE = {round(rmse, 2)}')\n",
    "ax.set_title('(b) Validation')\n",
    "ax.scatter(X_sat[:], Y_insitu[:], color='k', s=150)\n",
    "ax.axhline(alpha=0.5, c='k')\n",
    "ax.axvline(alpha=0.5, c='k')\n",
    "\n",
    "x_vals = np.linspace(-0.1,16,100)\n",
    "y_vals = x_vals\n",
    "plt.plot(x_vals, y_vals, 'k--');\n",
    "# plt.savefig('./figure2.png')"
   ]
  },
  {
   "cell_type": "markdown",
   "id": "70fcddd5",
   "metadata": {},
   "source": [
    "![](./lake-malombe-figure-2-5.png \"Lake Malombe Figure 2-5\")\n",
    "\n",
    "## Figure 3"
   ]
  },
  {
   "cell_type": "code",
   "execution_count": null,
   "id": "cf44aad0",
   "metadata": {},
   "outputs": [],
   "source": [
    "startDate = '2019-05-01'\n",
    "endDate = '2019-05-30'"
   ]
  },
  {
   "cell_type": "code",
   "execution_count": null,
   "id": "af9923a2",
   "metadata": {},
   "outputs": [],
   "source": [
    "S2_BANDS = ee.List(['B12', 'B11', 'B8', 'B3', 'B4', 'B5', 'B2', 'QA60']) \n",
    "S2_NAMES = ee.List(['swir1', 'swir2', 'nir', 'green', 'red', 'red2', 'blue', 'QA60'])"
   ]
  },
  {
   "cell_type": "code",
   "execution_count": null,
   "id": "15157c8f",
   "metadata": {},
   "outputs": [],
   "source": [
    "geom = ee.Geometry.Polygon(\n",
    "        [[[35.19496429044744, -14.647115511359019],\n",
    "          [35.19496429044744, -14.661730297242592],\n",
    "          [35.205263973064625, -14.661730297242592],\n",
    "          [35.205263973064625, -14.647115511359019]]])"
   ]
  },
  {
   "cell_type": "code",
   "execution_count": null,
   "id": "bfa793c1",
   "metadata": {},
   "outputs": [],
   "source": [
    "Sen2ImageCollection = ee.ImageCollection('COPERNICUS/S2_SR')\\\n",
    ".filterBounds(geom)\\\n",
    ".filterDate(startDate, endDate)\\\n",
    ".filterMetadata('CLOUDY_PIXEL_PERCENTAGE', 'less_than', 20)\\\n",
    ".select(S2_BANDS)\\\n",
    ".map(cloudMasking_S2_otsu)"
   ]
  },
  {
   "cell_type": "code",
   "execution_count": null,
   "id": "5658b211",
   "metadata": {},
   "outputs": [],
   "source": [
    "bounds = ee.Geometry.Polygon(\n",
    "[\n",
    "    [\n",
    "        [35.05117393493859,-14.567476706515635],\n",
    "        [34.98249502357456,-14.56747684216918],\n",
    "        [34.98249563853923,-14.712498859903812],\n",
    "        [35.05117379139305,-14.71249872295211],\n",
    "        [35.05117405325887,-14.712498726424245],\n",
    "        [35.05117407847995,-14.71249872295211],\n",
    "        [35.12078247974755,-14.71249872295211],\n",
    "        [35.12078274161338,-14.712498726424252],\n",
    "        [35.12078276683445,-14.71249872295211],\n",
    "        [35.19039116810203,-14.712498722952114],\n",
    "        [35.19039142996786,-14.712498726424249],\n",
    "        [35.19039145518894,-14.71249872295211],\n",
    "        [35.25999985645652,-14.71249872295211],\n",
    "        [35.260000118322345,-14.712498726424249],\n",
    "        [35.26000014354343,-14.71249872295211],\n",
    "        [35.329608544811016,-14.71249872295211],\n",
    "        [35.329608806676845,-14.712498726424249],\n",
    "        [35.32960883189792,-14.712498722952114],\n",
    "        [35.3992172331655,-14.71249872295211],\n",
    "        [35.39921749503134,-14.712498726424249],\n",
    "        [35.39921752025242,-14.71249872295211],\n",
    "        [35.46882592151999,-14.71249872295211],\n",
    "        [35.468826183385815,-14.712498726424252],\n",
    "        [35.468826208606906,-14.71249872295211],\n",
    "        [35.537504361460726,-14.712498859903809],\n",
    "        [35.537504976425396,-14.56747684216918],\n",
    "        [35.46882606506404,-14.56747670651563],\n",
    "        [35.39921737670757,-14.567476706515633],\n",
    "        [35.32960868835529,-14.567476706515635],\n",
    "        [35.2600000000008,-14.567476706515635],\n",
    "        [35.19039131164532,-14.567476706515633],\n",
    "        [35.120782623289905,-14.56747670651563],\n",
    "        [35.05117393493859,-14.567476706515635]\n",
    "    ]\n",
    "])"
   ]
  },
  {
   "cell_type": "code",
   "execution_count": null,
   "id": "0178152f",
   "metadata": {},
   "outputs": [],
   "source": [
    "w = 0.15\n",
    "h = 0.2\n",
    "lon, lat = 35.26, -14.64\n",
    "\n",
    "region = [lon + w, lat - h, lon - w, lat + h]"
   ]
  },
  {
   "cell_type": "code",
   "execution_count": null,
   "id": "a2e0b3e7",
   "metadata": {},
   "outputs": [],
   "source": [
    "fig = plt.figure(figsize=(10, 8))\n",
    "\n",
    "withWater = addWater_S2(Sen2ImageCollection, startDate, endDate, bounds)\n",
    "withWater = withWater.divide(10000)\n",
    "# print(withWater.select('water'))\n",
    "waterVisParams = {\n",
    "  'min': 0,\n",
    "  'max': 1,\n",
    "  'palette': ['Blue']\n",
    "};\n",
    "\n",
    "# use cartoee to get a map\n",
    "ax = cartoee.get_map(withWater.select('water'), region=region, vis_params=waterVisParams)\n",
    "cartoee.add_gridlines(ax, interval=[0.05, 0.05], linestyle=\":\")\n",
    "plt.show()"
   ]
  },
  {
   "cell_type": "markdown",
   "id": "943899b0",
   "metadata": {},
   "source": [
    "![](./lake-malombe-figure-3-1.png \"Lake Malombe Figure 3-1\")"
   ]
  },
  {
   "cell_type": "code",
   "execution_count": null,
   "id": "3e502c31",
   "metadata": {},
   "outputs": [],
   "source": [
    "S2_BANDS_2 = ['B12', 'B11', 'B8', 'B3', 'B4', 'B5', 'B2', 'QA60', 'water']\n",
    "S2_NAMES_2 = ['swir1', 'swir2', 'nir', 'green', 'red', 'red2', 'blue', 'QA60', 'water']\n",
    "\n",
    "updatedMaskedImage = withWater.select(S2_BANDS_2, S2_NAMES_2)"
   ]
  },
  {
   "cell_type": "code",
   "execution_count": null,
   "id": "25449ded",
   "metadata": {},
   "outputs": [],
   "source": [
    "ChlaVisParam={\n",
    "    'min':0,\n",
    "    'max':20,\n",
    "    'palette':['152E13', '183815', '1A4216', '1C4D17', '1E5817', '206416', '237015', '257D14', '278A12', '29980F', '2BA60C', '2EB509', '31C405', '34D400', '71DD22', 'A5E544', 'D0EC66']\n",
    "};"
   ]
  },
  {
   "cell_type": "code",
   "execution_count": null,
   "id": "072f6205",
   "metadata": {},
   "outputs": [],
   "source": [
    "equation = '9.547+104.809*((RED2-RED1)/(RED2+RED1))+431.976*((RED2-RED1)/(RED2+RED1))**2'"
   ]
  },
  {
   "cell_type": "code",
   "execution_count": null,
   "id": "34a277a0",
   "metadata": {},
   "outputs": [],
   "source": [
    "Chla = updatedMaskedImage.expression(equation,\n",
    "    {'RED2':updatedMaskedImage.select('red2'),'RED1':updatedMaskedImage.select('red')})"
   ]
  },
  {
   "cell_type": "code",
   "execution_count": null,
   "id": "cfcc6a63",
   "metadata": {},
   "outputs": [],
   "source": [
    "mask = withWater.select('water').gt(0);\n",
    "LakeWaterMask = updatedMaskedImage.updateMask(mask)\n",
    "ChlaMask = Chla.updateMask(mask);"
   ]
  },
  {
   "cell_type": "code",
   "execution_count": null,
   "id": "2b15c671",
   "metadata": {},
   "outputs": [],
   "source": [
    "plt.rcParams.update({'font.size': 16})\n",
    "\n",
    "\n",
    "fig = plt.figure(figsize=(10, 10))\n",
    "ax = cartoee.get_map(ChlaMask, region=region, vis_params=ChlaVisParam)\n",
    "ax.set_title('May')\n",
    "\n",
    "cartoee.add_gridlines(ax, interval=[0.05, 0.05], linestyle=\":\")\n",
    "\n",
    "cartoee.add_colorbar(\n",
    "    ax, ChlaVisParam, loc=\"right\", label=\"Chla-concentrations [$mg/m^3$]\", orientation=\"vertical\"\n",
    ")\n",
    "\n",
    "# add the gridlines and specify that the xtick labels be rotated 45 degrees\n",
    "# cartoee.add_gridlines(ax, interval=0.5, xtick_rotation=0, linestyle=\":\")\n",
    "\n",
    "# add north arrow\n",
    "cartoee.add_north_arrow(\n",
    "    ax, text=\"N\", xy=(0.1, 0.25), text_color=\"black\", arrow_color=\"black\", fontsize=15\n",
    ")\n",
    "\n",
    "# add scale bar\n",
    "cartoee.add_scale_bar_lite(\n",
    "    ax, length=5, xy=(0.2, 0.05), fontsize=16, color=\"black\", unit=\"km\"\n",
    ")"
   ]
  },
  {
   "cell_type": "markdown",
   "id": "efe5e59e",
   "metadata": {},
   "source": [
    "![](./lake-malombe-figure-3-2.png \"Lake Malombe Figure 3-2\")\n",
    "\n",
    "## Figure 4"
   ]
  },
  {
   "cell_type": "code",
   "execution_count": null,
   "id": "b424dcf9",
   "metadata": {},
   "outputs": [],
   "source": [
    "startDate = '2019-01-01'\n",
    "endDate = '2019-12-30'\n",
    "\n",
    "west = ee.Geometry.Point([35.204209, -14.667607])\n",
    "outlet = ee.Geometry.Point([35.264812, -14.724981])\n",
    "middle = ee.Geometry.Point([35.238484, -14.618457])\n",
    "inlet = ee.Geometry.Point([35.236233, -14.53507])\n",
    "east = ee.Geometry.Point([35.300301, -14.60977])"
   ]
  },
  {
   "cell_type": "code",
   "execution_count": null,
   "id": "b96cd60d",
   "metadata": {},
   "outputs": [],
   "source": [
    "Sen2ImageCollection = ee.ImageCollection('COPERNICUS/S2_SR')\\\n",
    "                    .filterBounds(middle)\\\n",
    "                    .filterDate(startDate, endDate)\\\n",
    "                    .filterMetadata('CLOUDY_PIXEL_PERCENTAGE', 'less_than', 20)\\\n",
    "                    .map(cloudMasking_S2_div)"
   ]
  },
  {
   "cell_type": "code",
   "execution_count": null,
   "id": "5ac37346",
   "metadata": {},
   "outputs": [],
   "source": [
    "equation = '9.547+104.809*((RED2-RED)/(RED2+RED))+431.976*((RED2-RED)/(RED2+RED))**2'\n",
    "\n",
    "withChla = Sen2ImageCollection.map(lambda img: addChla_S2(img, equation)).select('Chla')"
   ]
  },
  {
   "cell_type": "code",
   "execution_count": null,
   "id": "0df9b2e5",
   "metadata": {},
   "outputs": [],
   "source": [
    "bounds_inlet = inlet.buffer(300)\n",
    "bounds_east = east.buffer(300)\n",
    "bounds_west = west.buffer(300)\n",
    "bounds_middle = middle.buffer(300)\n",
    "bounds_outlet = outlet.buffer(300)"
   ]
  },
  {
   "cell_type": "code",
   "execution_count": null,
   "id": "f1bf3214",
   "metadata": {},
   "outputs": [],
   "source": [
    "chla_df_inlet = dataframe_prod(withChla, bounds_inlet, 'Chla')\n",
    "chla_df_east = dataframe_prod(withChla, bounds_east, 'Chla')\n",
    "chla_df_west = dataframe_prod(withChla, bounds_west, 'Chla')\n",
    "chla_df_middle = dataframe_prod(withChla, bounds_middle, 'Chla')\n",
    "chla_df_outlet = dataframe_prod(withChla, bounds_outlet, 'Chla')"
   ]
  },
  {
   "cell_type": "code",
   "execution_count": null,
   "id": "ff598df1",
   "metadata": {},
   "outputs": [],
   "source": [
    "fig, ax = plt.subplots(figsize=(14, 6))\n",
    "\n",
    "ax.plot(chla_df_inlet['datetime'], chla_df_inlet['Chla'],\n",
    "           'k-', alpha=0.8, label='Chla - RS')\n",
    "inlet_dic = {\n",
    "    'datetime': ['2019-05-14', '2019-06-24', '2019-07-18', '2019-08-20', '2019-09-12', '2019-10-11'],\n",
    "    'Chla': [2.0985, 3.1390, 4.2744, 3.1478, 9.3652, 13.3576]\n",
    "}\n",
    "inlet_df = pd.DataFrame(inlet_dic)\n",
    "inlet_df['datetime'] = pd.to_datetime(inlet_df['datetime'])\n",
    "\n",
    "ax.scatter(inlet_df['datetime'], inlet_df['Chla'], c='None', edgecolors='k', s=200, label='Chla - 0m')\n",
    "\n",
    "ax.set_title('Inlet', fontsize=20)\n",
    "ax.set_xlabel('Date', fontsize=16)\n",
    "ax.set_ylabel('Chla concentration [$mg/m^3$]', fontsize=16)\n",
    "ax.set_ylim(-0, 16)\n",
    "ax.grid(lw=0.2)\n",
    "ax.tick_params(which='both', labelsize=16, pad=3)\n",
    "ax.legend(fontsize=16, loc='lower right');"
   ]
  },
  {
   "cell_type": "markdown",
   "id": "fc367f28",
   "metadata": {},
   "source": [
    "![](./lake-malombe-figure-4-1.png \"Lake Malombe Figure 4-1\")"
   ]
  },
  {
   "cell_type": "code",
   "execution_count": null,
   "id": "905ae8bd",
   "metadata": {},
   "outputs": [],
   "source": [
    "fig, ax = plt.subplots(figsize=(14, 6))\n",
    "\n",
    "ax.plot(chla_df_inlet['datetime'], chla_df_inlet['Chla'],\n",
    "           'kv-', alpha=0.8, label='Inlet')\n",
    "ax.plot(chla_df_east['datetime'], chla_df_east['Chla'],\n",
    "           'ko-', alpha=0.8, label='East')\n",
    "ax.plot(chla_df_west['datetime'], chla_df_west['Chla'],\n",
    "        'ks-', alpha=0.8, label='West')\n",
    "ax.plot(chla_df_middle['datetime'], chla_df_middle['Chla'],\n",
    "           'kp-', alpha=0.8, label='Middle')\n",
    "ax.plot(chla_df_outlet['datetime'], chla_df_outlet['Chla'],\n",
    "           'k^-', alpha=0.8, label='Outlet')\n",
    "\n",
    "ax.set_xlabel('Date', fontsize=14)\n",
    "ax.set_ylabel('Chla concentration [$mg/m^3$]', fontsize=14)\n",
    "ax.set_ylim(-0, 20)\n",
    "ax.grid(lw=0.2)\n",
    "ax.legend(fontsize=14, loc='lower right');"
   ]
  },
  {
   "cell_type": "markdown",
   "id": "d5cb2cd1",
   "metadata": {},
   "source": [
    "![](./lake-malombe-figure-4-2.png \"Lake Malombe Figure 4-2\")"
   ]
  },
  {
   "cell_type": "code",
   "execution_count": null,
   "id": "6b8ea4a1",
   "metadata": {},
   "outputs": [],
   "source": [
    "chla_df_total = np.hstack((chla_df_inlet['Chla'].to_numpy(),\\\n",
    "                            chla_df_east['Chla'].to_numpy(),\\\n",
    "                            chla_df_west['Chla'].to_numpy(),\\\n",
    "                            chla_df_middle['Chla'].to_numpy(),\\\n",
    "                            chla_df_outlet['Chla'].to_numpy()                              \n",
    "                            ))\n",
    "\n",
    "chla_df_total = chla_df_total.reshape(5,-1)\n",
    "chla_df_total_mean = chla_df_total.mean(axis=0)"
   ]
  },
  {
   "cell_type": "code",
   "execution_count": null,
   "id": "5153873e",
   "metadata": {},
   "outputs": [],
   "source": [
    "chla_df_inlet.head()"
   ]
  },
  {
   "cell_type": "code",
   "execution_count": null,
   "id": "d46d1b77",
   "metadata": {},
   "outputs": [],
   "source": [
    "plt.rcParams.update({'font.size': 16})\n",
    "\n",
    "_, axs = plt.subplots(3, 2, figsize=(16, 9), constrained_layout=True, sharey=True, sharex=True, dpi=600)\n",
    "axs = axs.flatten()\n",
    "for i in range(6):\n",
    "    ax = axs[i]\n",
    "    \n",
    "    if i == 0:\n",
    "        ax.plot(chla_df_inlet['datetime'], chla_df_inlet['Chla'],\n",
    "               'k-', alpha=0.8, label='Chla - RS')\n",
    "        inlet_dic = {\n",
    "            'datetime': ['2019-05-14', '2019-06-24', '2019-07-18', '2019-08-20', '2019-09-12', '2019-10-11'],\n",
    "            'Chla': [2.0985, 3.1390, 4.2744, 3.1478, 9.3652, 13.3576]\n",
    "        }\n",
    "        inlet_df = pd.DataFrame(inlet_dic)\n",
    "        inlet_df['datetime'] = pd.to_datetime(inlet_df['datetime'])\n",
    "\n",
    "        ax.scatter(inlet_df['datetime'], inlet_df['Chla'], c='None', edgecolors='k', s=100, label='Chla - 0m')\n",
    "        ax.set_title('Inlet')\n",
    "        ax.set_ylabel('Chla concentration \\n [$mg/m^3$]')\n",
    "    elif i == 1:\n",
    "        ax.plot(chla_df_east['datetime'], chla_df_east['Chla'],\n",
    "           'k-', alpha=0.8, label='Chla - RS')\n",
    "\n",
    "        east_dic = {\n",
    "            'datetime': ['2019-05-14', '2019-06-24', '2019-07-18', '2019-08-20', '2019-09-12', '2019-10-11'],\n",
    "            'Chla': [3.2866, 2.6231, 2.1347, 8.7450, 7.5128, 6.7654]\n",
    "        }\n",
    "        east_df = pd.DataFrame(east_dic)\n",
    "        east_df['datetime'] = pd.to_datetime(east_df['datetime'])\n",
    "\n",
    "        ax.scatter(east_df['datetime'], east_df['Chla'], c='None', edgecolors='k', s=100, label='Chla - 0m')\n",
    "        ax.set_title('East')\n",
    "    elif i == 2:\n",
    "        ax.plot(chla_df_middle['datetime'], chla_df_middle['Chla'],\n",
    "           'k-', alpha=0.8, label='Chla - RS')\n",
    "\n",
    "        middle_dic = {\n",
    "            'datetime': ['2019-05-14', '2019-06-24', '2019-07-18', '2019-08-20', '2019-09-12', '2019-10-11'],\n",
    "            'Chla': [2.0985, 3.7401, 3.4762, 8.9199, 5.2463, 4.5621]\n",
    "        }\n",
    "        middle_df = pd.DataFrame(middle_dic)\n",
    "        middle_df['datetime'] = pd.to_datetime(middle_df['datetime'])\n",
    "\n",
    "        ax.scatter(middle_df['datetime'], middle_df['Chla'], c='None', edgecolors='k', s=100, label='Chla - 0m')\n",
    "        ax.set_title('Middle')\n",
    "        ax.set_ylabel('Chla concentration \\n [$mg/m^3$]')\n",
    "    elif i == 3:\n",
    "        ax.plot(chla_df_west['datetime'], chla_df_west['Chla'],\n",
    "           'k-', alpha=0.8, label='Chla - RS')\n",
    "\n",
    "        west_dic = {\n",
    "            'datetime': ['2019-05-14', '2019-06-24', '2019-07-18', '2019-08-20', '2019-09-12', '2019-10-11'],\n",
    "            'Chla': [3.9182, 3.1128, 3.2195, 11.1313, 13.3576, 12.2135]\n",
    "        }\n",
    "        west_df = pd.DataFrame(west_dic)\n",
    "        west_df['datetime'] = pd.to_datetime(west_df['datetime'])\n",
    "\n",
    "        ax.scatter(west_df['datetime'], west_df['Chla'], c='None', edgecolors='k', s=100, label='Chla - 0m')\n",
    "\n",
    "        # Add some parameters.\n",
    "        ax.set_title('West')\n",
    "    elif i == 4:\n",
    "        ax.plot(chla_df_outlet['datetime'], chla_df_outlet['Chla'],\n",
    "           'k-', alpha=0.8, label='Chla - RS')\n",
    "        outlet_dic = {\n",
    "            'datetime': ['2019-05-14', '2019-06-24', '2019-07-18', '2019-08-20', '2019-09-12', '2019-10-11'],\n",
    "            'Chla': [3.6110, 4.5416, 4.6712, 6.2017, 6.5588, 9.4616,]\n",
    "        }\n",
    "        outlet_df = pd.DataFrame(outlet_dic)\n",
    "        outlet_df['datetime'] = pd.to_datetime(outlet_df['datetime'])\n",
    "\n",
    "        ax.scatter(outlet_df['datetime'], outlet_df['Chla'], c='None', edgecolors='k', s=100, label='Chla - 0m')\n",
    "\n",
    "        # Add some parameters.\n",
    "        ax.set_title('Outlet')\n",
    "        ax.set_xlabel('Date', fontsize=12)\n",
    "        ax.set_ylabel('Chla concentration \\n [$mg/m^3$]')\n",
    "    elif i == 5:\n",
    "        ax.plot(chla_df_inlet['datetime'], chla_df_inlet['Chla'],\n",
    "                   'k-', alpha=0.8, label='Inlet')\n",
    "        ax.plot(chla_df_east['datetime'], chla_df_east['Chla'],\n",
    "                   'k--', alpha=0.8, label='East')\n",
    "        ax.plot(chla_df_west['datetime'], chla_df_west['Chla'],\n",
    "                'k-.', alpha=0.8, label='West')\n",
    "        ax.plot(chla_df_middle['datetime'], chla_df_middle['Chla'],\n",
    "                   'k:', alpha=0.8, label='Middle')\n",
    "        ax.plot(chla_df_outlet['datetime'], chla_df_outlet['Chla'],\n",
    "                   'k--.', alpha=0.8, label='Outlet')\n",
    "        ax.set_xlabel('Date', fontsize=12)\n",
    "\n",
    "\n",
    "    ax.set_ylim(-0, 20)\n",
    "    ax.grid(lw=0.2)\n",
    "    ax.legend(loc='lower right', fontsize=11)\n",
    "    ax.tick_params(axis='both', labelsize=12)\n",
    "    \n",
    "\n",
    "# plt.savefig('./figure4.png')"
   ]
  },
  {
   "cell_type": "markdown",
   "id": "10c74a05",
   "metadata": {},
   "source": [
    "![](./lake-malombe-figure-4-3.png \"Lake Malombe Figure 4-3\")\n",
    "\n",
    "## Table 4"
   ]
  },
  {
   "cell_type": "code",
   "execution_count": null,
   "id": "c41da8ae",
   "metadata": {},
   "outputs": [],
   "source": [
    "matrix1 = np.vstack((chla_df_middle['Chla'][:], chla_df_inlet['Chla'][:], chla_df_east['Chla'][:],chla_df_outlet['Chla'][:], chla_df_west['Chla'][:]))\n",
    "r, p = corrcoef_loop(matrix1)\n",
    "np.round(r,3)"
   ]
  },
  {
   "cell_type": "markdown",
   "id": "7bf52bf6",
   "metadata": {},
   "source": [
    "![](./lake-malombe-table-4.png \"Lake Malombe Table 4\")\n",
    "\n",
    "## Figure 5"
   ]
  },
  {
   "cell_type": "code",
   "execution_count": null,
   "id": "840c953f",
   "metadata": {},
   "outputs": [],
   "source": [
    "def double_logistic(x, max_value, amp, slope1, SOS, slope2, EOS):\n",
    "    return max_value + amp*(1/(1+np.exp(slope1*(x-SOS))) + 1/(1+np.exp(-slope2*(x-EOS)))-1)\n",
    "\n",
    "\n",
    "x = chla_df_inlet['DOY']\n",
    "y = chla_df_total_mean"
   ]
  },
  {
   "cell_type": "code",
   "execution_count": null,
   "id": "f959bada",
   "metadata": {},
   "outputs": [],
   "source": [
    "dlModel = Model(double_logistic)\n",
    "result = dlModel.fit(y, x=x, max_value=11, amp=8, slope1=0.05, SOS=100, slope2=0.05, EOS=270)\n",
    "\n",
    "print(result.fit_report())"
   ]
  },
  {
   "cell_type": "markdown",
   "id": "7dd2ec56",
   "metadata": {},
   "source": [
    "![](./lake-malombe-fitting.png \"Lake Malombe fitting result\")"
   ]
  },
  {
   "cell_type": "code",
   "execution_count": null,
   "id": "5b97b510",
   "metadata": {},
   "outputs": [],
   "source": [
    "plt.plot(x, y, 'o')\n",
    "plt.plot(x, result.best_fit, '-', label='best fit');"
   ]
  },
  {
   "cell_type": "markdown",
   "id": "8db7ae50",
   "metadata": {},
   "source": [
    "![](./lake-malombe-figure-5-1.png \"Lake Malombe Figure 5-1\")"
   ]
  },
  {
   "cell_type": "code",
   "execution_count": null,
   "id": "b362bda5",
   "metadata": {},
   "outputs": [],
   "source": [
    "plt.rcParams.update({'font.size': 16})\n",
    "\n",
    "fig, ax = plt.subplots(figsize=(14, 6),constrained_layout=True, dpi=600)\n",
    "ax.plot(x, result.best_fit,\n",
    "           'k-', alpha=0.8, label='Fitting results')\n",
    "ax.scatter(x, y, c='None', edgecolors='k', s=100, label='Chla - RS')\n",
    "\n",
    "# Add some parameters.\n",
    "# ax.set_title('Outlet', fontsize=16)\n",
    "ax.set_xlabel('Day of year')\n",
    "ax.set_ylabel('Chl-a concentration\\n [$mg/m^3$]')\n",
    "ax.set_ylim(-0, 15)\n",
    "ax.grid(lw=0.2)\n",
    "ax.axvline(98, c='k', ls=':')\n",
    "ax.axvline(250, c='k', ls=':')\n",
    "ax.legend(['Fitting results','Chla - RS', 'EOS and SOS'], loc='lower right')\n",
    "ax.tick_params(axis='both', labelsize=14);"
   ]
  },
  {
   "cell_type": "markdown",
   "id": "1d8ac756",
   "metadata": {},
   "source": [
    "![](./lake-malombe-figure-5-2.png \"Lake Malombe Figure 5-2\")"
   ]
  },
  {
   "cell_type": "code",
   "execution_count": null,
   "id": "82469b7e",
   "metadata": {},
   "outputs": [],
   "source": [
    "lake_malombe = ee.Geometry.Point([35.257449031658375,-14.642465147834072])\n",
    "\n",
    "GSMaP = ee.ImageCollection('JAXA/GPM_L3/GSMaP/v6/operational')\\\n",
    "        .filterBounds(lake_malombe)\\\n",
    "        .filterDate(startDate, endDate)\\\n",
    "        .select('hourlyPrecipRate')"
   ]
  },
  {
   "cell_type": "code",
   "execution_count": null,
   "id": "ddbe15ce",
   "metadata": {},
   "outputs": [],
   "source": [
    "precipi_df_malombe = precipi_dataframe_prod(GSMaP, lake_malombe)\n",
    "precipi_df_malombe.head()"
   ]
  },
  {
   "cell_type": "code",
   "execution_count": null,
   "id": "81c1bf59",
   "metadata": {},
   "outputs": [],
   "source": [
    "precipi_df_malombe_sub = precipi_df_malombe[['DOY', 'hourlyPrecipRate']]\n",
    "precipi_df_malombe_sub = precipi_df_malombe_sub.groupby('DOY').agg('sum')\n",
    "precipi_df_malombe_sub['Precip-mm/day'] = precipi_df_malombe_sub['hourlyPrecipRate']\n",
    "precipi_df_malombe_sub = precipi_df_malombe_sub.groupby('DOY').agg('sum').reset_index()\n",
    "\n",
    "precipi_df_malombe_sub['Precip-mm/day'] = precipi_df_malombe_sub['hourlyPrecipRate']\n",
    "\n",
    "precipi_df_malombe_sub[['DOY', 'Precip-mm/day']].head()"
   ]
  },
  {
   "cell_type": "code",
   "execution_count": null,
   "id": "09fc975e",
   "metadata": {},
   "outputs": [],
   "source": [
    "plt.rcParams.update({'font.size': 16})\n",
    "\n",
    "fig, ax = plt.subplots(figsize=(14, 6),constrained_layout=True)\n",
    "doy_series = [i for i in range(1,364)]\n",
    "ax.plot(doy_series, precipi_df_malombe_sub['Precip-mm/day'],\n",
    "        c='k',alpha=0.8)\n",
    "\n",
    "ax.set_title('Precipitation variation')\n",
    "ax.set_xlabel('DOY')\n",
    "ax.set_ylabel('Precipitation [mm/day]')\n",
    "ax.set_ylim(-0, 110)\n",
    "ax.grid(lw=0.2)\n",
    "ax.tick_params(axis='both', labelsize=14);"
   ]
  },
  {
   "cell_type": "markdown",
   "id": "5e3923aa",
   "metadata": {},
   "source": [
    "![](./lake-malombe-figure-5-3.png \"Lake Malombe Figure 5-3\")"
   ]
  },
  {
   "cell_type": "code",
   "execution_count": null,
   "id": "cdcb9472",
   "metadata": {},
   "outputs": [],
   "source": [
    "lake_malombe_land = ee.Geometry.Point([35.16317613350976,-14.643399266725753])\n",
    "lake_malombe = ee.Geometry.Point([35.257449031658375,-14.642465147834072])\n",
    "\n",
    "modis = ee.ImageCollection('MODIS/061/MOD11A2')\\\n",
    "        .filterBounds(lake_malombe)\\\n",
    "        .filterDate(startDate, endDate)\\\n",
    "        .select('LST_Day_1km')\n",
    "\n",
    "\n",
    "modLSTc = modis.map(Temp_correction);\n",
    "temp_df_malombe = dataframe_prod_temp(modLSTc, lake_malombe)\n",
    "temp_df_malombe_land = dataframe_prod_temp(modLSTc, lake_malombe_land)\n",
    "\n",
    "add_date_info(temp_df_malombe)\n",
    "add_date_info(temp_df_malombe_land)\n",
    "temp_df_malombe.head(10)"
   ]
  },
  {
   "cell_type": "code",
   "execution_count": null,
   "id": "76631406",
   "metadata": {},
   "outputs": [],
   "source": [
    "plt.rcParams.update({'font.size': 16})\n",
    "\n",
    "_, axs = plt.subplots(4, 1, figsize=(20, 10), constrained_layout=True, sharex=True, dpi=600)\n",
    "axs = axs.flatten()\n",
    "for i in range(4):\n",
    "    ax = axs[i]\n",
    "    \n",
    "    if i == 0:\n",
    "        ax.plot(x, result.best_fit,\n",
    "           'k-', alpha=0.8, label='Fitting results')\n",
    "        ax.scatter(x, y, c='None', edgecolors='k', s=100, label='Chla - RS')\n",
    "        ax.set_ylabel('Chl-a\\n concentration\\n [$mg/m^3$]')\n",
    "        ax.set_ylim(-0, 15)\n",
    "        ax.axvline(98, c='k', ls=':')\n",
    "        ax.axvline(250, c='k', ls=':')\n",
    "        ax.legend(['Fitting results','Chla - RS', 'EOS and SOS'], loc='lower right')\n",
    "        \n",
    "    elif i == 1:\n",
    "        ax.plot(temp_df_malombe['DOY'], temp_df_malombe['LST_Day_1km'],\n",
    "           c='k', alpha=0.8)\n",
    "        ax.set_ylabel('Water\\n temperature\\n [$^\\circ C$]')\n",
    "        ax.set_ylim(18, 30)\n",
    "        ax.axvline(98, c='k', ls=':')\n",
    "        ax.axvline(250, c='k', ls=':')\n",
    "    elif i == 2:\n",
    "        ax.plot(temp_df_malombe_land['DOY'], temp_df_malombe_land['LST_Day_1km'],\n",
    "           c='k', alpha=0.8)\n",
    "        ax.set_ylabel('Land\\n temperature\\n [$^\\circ C$]')\n",
    "        ax.set_ylim(20, 50)\n",
    "        ax.axvline(98, c='k', ls=':')\n",
    "        ax.axvline(250, c='k', ls=':')\n",
    "    elif i == 3:\n",
    "        ax.plot(precipi_df_malombe_sub['DOY'], precipi_df_malombe_sub['Precip-mm/day'],\n",
    "        c='k',alpha=0.8)\n",
    "\n",
    "        ax.set_xlabel('Day of year')\n",
    "        ax.set_ylabel('Precipitation\\n [mm/day]')\n",
    "        ax.set_ylim(-0, 100)\n",
    "        ax.axvline(98, c='k', ls=':')\n",
    "        ax.axvline(250, c='k', ls=':')\n",
    "    \n",
    "    ax.grid(lw=0.2)\n",
    "    ax.tick_params(axis='both')\n",
    "    \n",
    "\n",
    "# plt.savefig('./figure5.png')"
   ]
  },
  {
   "cell_type": "markdown",
   "id": "70f80af7",
   "metadata": {},
   "source": [
    "![](./lake-malombe-figure-5-4.png \"Lake Malombe Figure 5-4\")"
   ]
  }
 ],
 "metadata": {
  "jupytext": {
   "text_representation": {
    "extension": ".md",
    "format_name": "myst",
    "format_version": 0.13,
    "jupytext_version": "1.14.5"
   }
  },
  "kernelspec": {
   "display_name": "Python 3 (ipykernel)",
   "language": "python",
   "name": "python3"
  },
  "source_map": [
   12,
   16,
   22,
   24,
   28,
   46,
   50,
   66,
   80,
   94,
   108,
   122,
   132,
   136,
   141,
   151,
   158,
   162,
   171,
   177,
   207,
   232,
   258,
   283,
   306,
   316,
   331,
   335,
   362,
   368,
   373,
   378,
   386,
   395,
   436,
   444,
   460,
   464,
   471,
   479,
   483,
   488,
   494,
   520,
   526,
   537,
   545,
   551,
   559,
   567,
   588,
   592,
   611,
   615,
   627,
   631,
   731,
   737,
   741,
   747,
   756,
   761,
   765,
   768,
   772,
   790,
   794,
   803,
   808,
   819,
   833,
   837,
   856,
   903
  ]
 },
 "nbformat": 4,
 "nbformat_minor": 5
}