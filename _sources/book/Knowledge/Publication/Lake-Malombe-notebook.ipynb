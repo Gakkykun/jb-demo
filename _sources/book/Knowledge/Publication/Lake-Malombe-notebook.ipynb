{
 "cells": [
  {
   "cell_type": "markdown",
   "id": "d01e811e",
   "metadata": {},
   "source": [
    "# Lake Malome Study Notebook"
   ]
  },
  {
   "cell_type": "code",
   "execution_count": null,
   "id": "914d18b2",
   "metadata": {},
   "outputs": [],
   "source": [
    "import ee\n",
    "# Initialize the Earth Engine module.\n",
    "ee.Initialize()"
   ]
  },
  {
   "cell_type": "code",
   "execution_count": null,
   "id": "6f9b8ac2",
   "metadata": {},
   "outputs": [],
   "source": [
    "from util import *"
   ]
  },
  {
   "cell_type": "markdown",
   "id": "c6c5976e",
   "metadata": {},
   "source": [
    "## Figure 2"
   ]
  },
  {
   "cell_type": "code",
   "execution_count": null,
   "id": "c6f77392",
   "metadata": {},
   "outputs": [],
   "source": []
  },
  {
   "cell_type": "markdown",
   "id": "191eddd9",
   "metadata": {},
   "source": [
    "## Figure 3"
   ]
  },
  {
   "cell_type": "code",
   "execution_count": null,
   "id": "06bb106f",
   "metadata": {},
   "outputs": [],
   "source": [
    "startDate = '2019-05-01'\n",
    "endDate = '2019-05-30'"
   ]
  },
  {
   "cell_type": "code",
   "execution_count": null,
   "id": "d1b51fd9",
   "metadata": {},
   "outputs": [],
   "source": [
    "S2_BANDS = ee.List(['B12', 'B11', 'B8', 'B3', 'B4', 'B5', 'B2', 'QA60']) \n",
    "S2_NAMES = ee.List(['swir1', 'swir2', 'nir', 'green', 'red', 'red2', 'blue', 'QA60'])"
   ]
  },
  {
   "cell_type": "code",
   "execution_count": null,
   "id": "97e52b41",
   "metadata": {},
   "outputs": [],
   "source": [
    "geom = ee.Geometry.Polygon(\n",
    "        [[[35.19496429044744, -14.647115511359019],\n",
    "          [35.19496429044744, -14.661730297242592],\n",
    "          [35.205263973064625, -14.661730297242592],\n",
    "          [35.205263973064625, -14.647115511359019]]])"
   ]
  },
  {
   "cell_type": "code",
   "execution_count": null,
   "id": "35a1b72f",
   "metadata": {},
   "outputs": [],
   "source": [
    "Sen2ImageCollection = ee.ImageCollection('COPERNICUS/S2_SR')\\\n",
    ".filterBounds(geom)\\\n",
    ".filterDate(startDate, endDate)\\\n",
    ".filterMetadata('CLOUDY_PIXEL_PERCENTAGE', 'less_than', 20)\\\n",
    ".select(S2_BANDS)\\\n",
    ".map(cloudMasking_S2_otsu)"
   ]
  },
  {
   "cell_type": "code",
   "execution_count": null,
   "id": "4d15fe0e",
   "metadata": {},
   "outputs": [],
   "source": [
    "bounds = ee.Geometry.Polygon(\n",
    "[\n",
    "    [\n",
    "        [35.05117393493859,-14.567476706515635],\n",
    "        [34.98249502357456,-14.56747684216918],\n",
    "        [34.98249563853923,-14.712498859903812],\n",
    "        [35.05117379139305,-14.71249872295211],\n",
    "        [35.05117405325887,-14.712498726424245],\n",
    "        [35.05117407847995,-14.71249872295211],\n",
    "        [35.12078247974755,-14.71249872295211],\n",
    "        [35.12078274161338,-14.712498726424252],\n",
    "        [35.12078276683445,-14.71249872295211],\n",
    "        [35.19039116810203,-14.712498722952114],\n",
    "        [35.19039142996786,-14.712498726424249],\n",
    "        [35.19039145518894,-14.71249872295211],\n",
    "        [35.25999985645652,-14.71249872295211],\n",
    "        [35.260000118322345,-14.712498726424249],\n",
    "        [35.26000014354343,-14.71249872295211],\n",
    "        [35.329608544811016,-14.71249872295211],\n",
    "        [35.329608806676845,-14.712498726424249],\n",
    "        [35.32960883189792,-14.712498722952114],\n",
    "        [35.3992172331655,-14.71249872295211],\n",
    "        [35.39921749503134,-14.712498726424249],\n",
    "        [35.39921752025242,-14.71249872295211],\n",
    "        [35.46882592151999,-14.71249872295211],\n",
    "        [35.468826183385815,-14.712498726424252],\n",
    "        [35.468826208606906,-14.71249872295211],\n",
    "        [35.537504361460726,-14.712498859903809],\n",
    "        [35.537504976425396,-14.56747684216918],\n",
    "        [35.46882606506404,-14.56747670651563],\n",
    "        [35.39921737670757,-14.567476706515633],\n",
    "        [35.32960868835529,-14.567476706515635],\n",
    "        [35.2600000000008,-14.567476706515635],\n",
    "        [35.19039131164532,-14.567476706515633],\n",
    "        [35.120782623289905,-14.56747670651563],\n",
    "        [35.05117393493859,-14.567476706515635]\n",
    "    ]\n",
    "])"
   ]
  },
  {
   "cell_type": "code",
   "execution_count": null,
   "id": "3ac26d1a",
   "metadata": {},
   "outputs": [],
   "source": [
    "w = 0.15\n",
    "h = 0.2\n",
    "lon, lat = 35.26, -14.64\n",
    "\n",
    "region = [lon + w, lat - h, lon - w, lat + h]"
   ]
  },
  {
   "cell_type": "code",
   "execution_count": null,
   "id": "9115c977",
   "metadata": {},
   "outputs": [],
   "source": [
    "fig = plt.figure(figsize=(10, 8))\n",
    "\n",
    "withWater = addWater_S2(Sen2ImageCollection, startDate, endDate, bounds)\n",
    "withWater = withWater.divide(10000)\n",
    "# print(withWater.select('water'))\n",
    "waterVisParams = {\n",
    "  'min': 0,\n",
    "  'max': 1,\n",
    "  'palette': ['Blue']\n",
    "};\n",
    "\n",
    "# use cartoee to get a map\n",
    "ax = cartoee.get_map(withWater.select('water'), region=region, vis_params=waterVisParams)\n",
    "cartoee.add_gridlines(ax, interval=[0.05, 0.05], linestyle=\":\")\n",
    "plt.show()"
   ]
  },
  {
   "cell_type": "markdown",
   "id": "db0044da",
   "metadata": {},
   "source": [
    "![](./LakeMalombe-1.png \"Lake Malombe water area delineation\")"
   ]
  },
  {
   "cell_type": "code",
   "execution_count": null,
   "id": "203f264c",
   "metadata": {},
   "outputs": [],
   "source": [
    "S2_BANDS_2 = ['B12', 'B11', 'B8', 'B3', 'B4', 'B5', 'B2', 'QA60', 'water']\n",
    "S2_NAMES_2 = ['swir1', 'swir2', 'nir', 'green', 'red', 'red2', 'blue', 'QA60', 'water']\n",
    "\n",
    "updatedMaskedImage = withWater.select(S2_BANDS_2, S2_NAMES_2)"
   ]
  },
  {
   "cell_type": "code",
   "execution_count": null,
   "id": "e69e2a85",
   "metadata": {},
   "outputs": [],
   "source": [
    "ChlaVisParam={\n",
    "    'min':0,\n",
    "    'max':20,\n",
    "    'palette':['152E13', '183815', '1A4216', '1C4D17', '1E5817', '206416', '237015', '257D14', '278A12', '29980F', '2BA60C', '2EB509', '31C405', '34D400', '71DD22', 'A5E544', 'D0EC66']\n",
    "};"
   ]
  },
  {
   "cell_type": "code",
   "execution_count": null,
   "id": "315becab",
   "metadata": {},
   "outputs": [],
   "source": [
    "equation = '9.547+104.809*((RED2-RED1)/(RED2+RED1))+431.976*((RED2-RED1)/(RED2+RED1))**2'"
   ]
  },
  {
   "cell_type": "code",
   "execution_count": null,
   "id": "8272c454",
   "metadata": {},
   "outputs": [],
   "source": [
    "Chla = updatedMaskedImage.expression(equation,\n",
    "    {'RED2':updatedMaskedImage.select('red2'),'RED1':updatedMaskedImage.select('red')})"
   ]
  },
  {
   "cell_type": "code",
   "execution_count": null,
   "id": "a6026214",
   "metadata": {},
   "outputs": [],
   "source": [
    "mask = withWater.select('water').gt(0);\n",
    "LakeWaterMask = updatedMaskedImage.updateMask(mask)\n",
    "ChlaMask = Chla.updateMask(mask);"
   ]
  },
  {
   "cell_type": "code",
   "execution_count": null,
   "id": "58913b9a",
   "metadata": {},
   "outputs": [],
   "source": [
    "plt.rcParams.update({'font.size': 16})\n",
    "\n",
    "\n",
    "fig = plt.figure(figsize=(10, 10))\n",
    "ax = cartoee.get_map(ChlaMask, region=region, vis_params=ChlaVisParam)\n",
    "ax.set_title('May')\n",
    "\n",
    "cartoee.add_gridlines(ax, interval=[0.05, 0.05], linestyle=\":\")\n",
    "\n",
    "cartoee.add_colorbar(\n",
    "    ax, ChlaVisParam, loc=\"right\", label=\"Chla-concentrations [$mg/m^3$]\", orientation=\"vertical\"\n",
    ")\n",
    "\n",
    "# add the gridlines and specify that the xtick labels be rotated 45 degrees\n",
    "# cartoee.add_gridlines(ax, interval=0.5, xtick_rotation=0, linestyle=\":\")\n",
    "\n",
    "# add north arrow\n",
    "cartoee.add_north_arrow(\n",
    "    ax, text=\"N\", xy=(0.1, 0.25), text_color=\"black\", arrow_color=\"black\", fontsize=15\n",
    ")\n",
    "\n",
    "# add scale bar\n",
    "cartoee.add_scale_bar_lite(\n",
    "    ax, length=5, xy=(0.2, 0.05), fontsize=16, color=\"black\", unit=\"km\"\n",
    ")"
   ]
  },
  {
   "cell_type": "markdown",
   "id": "c9fa578f",
   "metadata": {},
   "source": [
    "![](./LakeMalombe-2.png \"Lake Malombe chla mapping\")"
   ]
  }
 ],
 "metadata": {
  "jupytext": {
   "text_representation": {
    "extension": ".md",
    "format_name": "myst",
    "format_version": 0.13,
    "jupytext_version": "1.14.5"
   }
  },
  "kernelspec": {
   "display_name": "Python 3 (ipykernel)",
   "language": "python",
   "name": "python3"
  },
  "source_map": [
   12,
   16,
   22,
   24,
   28,
   30,
   34,
   39,
   44,
   52,
   61,
   102,
   110,
   126,
   130,
   137,
   145,
   149,
   154,
   160,
   186
  ]
 },
 "nbformat": 4,
 "nbformat_minor": 5
}