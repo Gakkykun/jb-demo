{
 "cells": [
  {
   "cell_type": "markdown",
   "id": "31d6a34a",
   "metadata": {},
   "source": [
    "# Google Earth Engine common operations\n",
    "1. Extracting the satellite data information from a specific point\n",
    "2. Calibration/validation with error analysis\n",
    "3. Creating a time-series\n",
    "4. Creating a mapping of a specific variable.\n",
    "\n",
    "\n",
    "## Extracting the satellite data information from a specific point\n",
    "We first need to identify which dataset should be used."
   ]
  },
  {
   "cell_type": "code",
   "execution_count": null,
   "id": "1a91ddb8",
   "metadata": {},
   "outputs": [],
   "source": [
    "startDate = '2019-01-01'\n",
    "endDate = '2019-12-30'\n",
    "sampling_point = ee.Geometry.Point([35.238484, -14.618457])\n",
    "\n",
    "Sen2ImageCollection = ee.ImageCollection('COPERNICUS/S2_SR')\n",
    "        .filterBounds(sampling_point)\n",
    "        .filterDate(startDate, endDate)\n",
    "        .filterMetadata('CLOUDY_PIXEL_PERCENTAGE', 'less_than', 20)\n",
    "        .map(cloudMasking_S2_div)\n",
    "        .map(rescaling)"
   ]
  },
  {
   "cell_type": "markdown",
   "id": "2bd50e44",
   "metadata": {},
   "source": [
    "We can extract reflectance spectra at a specific point, considering 3 × 3 neighborhood pixels centered at the point and take mean reflectance values for available wavelengths."
   ]
  },
  {
   "cell_type": "code",
   "execution_count": null,
   "id": "dccb5480",
   "metadata": {},
   "outputs": [],
   "source": [
    "Sen2Image = ee.ImageCollection('COPERNICUS/S2_SR')\\\n",
    " .filterBounds(sampling_point)\\\n",
    " .filterDate(startDate, endDate)\\\n",
    " .filterMetadata('CLOUDY_PIXEL_PERCENTAGE', 'less_than', 20)\\\n",
    " .map(cloudMasking)\\\n",
    " .map(rescaling)\\\n",
    " .median()\\\n",
    " .divide(10000)\n",
    "\n",
    "args = {\n",
    "        'reducer': ee.Reducer.toList(),\n",
    "        'geometry':sampling_point.buffer(30).bounds(),\n",
    "        'scale': 20, \n",
    "        'maxPixels': 4e4,\n",
    "        'bestEffort': True\n",
    "    }\n",
    "\n",
    "msi_info = Sen2Image.reduceRegion(**args).getInfo()\n",
    "\n",
    "df = pd.DataFrame(msi_info)\n",
    "df = df[['B1', 'B2','B3', 'B4', 'B5', 'B6', 'B7', 'B8', 'B8A', 'B11']]\n",
    "mean = df[['B1', 'B2', 'B3', 'B4', 'B5', 'B6', 'B7', 'B8', 'B8A', 'B11']].mean()"
   ]
  },
  {
   "cell_type": "markdown",
   "id": "c8d2dee1",
   "metadata": {},
   "source": [
    "## Calibration/validation with error analysis"
   ]
  },
  {
   "cell_type": "code",
   "execution_count": null,
   "id": "d7d1e712",
   "metadata": {},
   "outputs": [],
   "source": [
    "Sen2ImageCollection = ee.ImageCollection('COPERNICUS/S2_SR')\\\n",
    ".filterBounds(sampling_point)\\\n",
    ".filterDate(startDate, endDate)\\\n",
    ".filterMetadata('CLOUDY_PIXEL_PERCENTAGE', 'less_than', 20)\\\n",
    ".select(S2_BANDS)\\\n",
    ".map(cloudMasking)\n",
    "\n",
    "withChla = Sen2ImageCollection.map(addChla).select('Chla')\n",
    "bounds_inlet = inlet.buffer(300)\n",
    "\n",
    "reduce_chla = create_reduce_region_function(\n",
    "    geometry=bounds_inlet, reducer=ee.Reducer.mean())\n",
    "\n",
    "chla_stat_fc = ee.FeatureCollection(withChla.map(reduce_chla)).filter(\n",
    "    ee.Filter.notNull(withChla.first().bandNames()))\n",
    "\n",
    "\n",
    "chla_dict = fc_to_dict(chla_stat_fc).getInfo()\n",
    "chla_df = pd.DataFrame(chla_dict)"
   ]
  },
  {
   "cell_type": "markdown",
   "id": "a2df63f8",
   "metadata": {},
   "source": [
    "Convert the time field into a datetime and keep the columns of interest."
   ]
  },
  {
   "cell_type": "code",
   "execution_count": null,
   "id": "f3b077fd",
   "metadata": {},
   "outputs": [],
   "source": [
    "chla_df['datetime'] = pd.to_datetime(chla_df['millis'], unit='ms')\n",
    "\n",
    "chla_df = chla_df[['Chla','datetime']]\n",
    "\n",
    "S_NDCI = np.concatenate((chla_df_w6['NDCI'].values,\\\n",
    "                         chla_df_o6['NDCI'].values,\\\n",
    "                         chla_df_m6['NDCI'].values,\\\n",
    "                         np.array([chla_df_i6['NDCI'].values.mean()]),\\\n",
    "                         chla_df_e6['NDCI'].values,\\\n",
    "                         chla_df_w9['NDCI'].values,\\\n",
    "                         chla_df_o9['NDCI'].values,\\\n",
    "                         chla_df_m9['NDCI'].values,\\\n",
    "                         np.array([chla_df_i9['NDCI'].values.mean()]),\\\n",
    "                         chla_df_e9['NDCI'].values\\\n",
    "                        ), axis=0) "
   ]
  },
  {
   "cell_type": "code",
   "execution_count": null,
   "id": "2a113caf",
   "metadata": {},
   "outputs": [],
   "source": [
    "chla_jun = np.array([3.1128, 4.5416, 3.7401, 3.1390, 2.6231])\n",
    "chla_sep = np.array([13.3576, 6.5588, 5.2463, 9.3652, 7.5128])\n",
    "\n",
    "chla_insitu =np.concatenate((chla_jun, chla_sep), axis=0)"
   ]
  },
  {
   "cell_type": "markdown",
   "id": "6de7df8b",
   "metadata": {},
   "source": [
    "A curve_fit function from Numpy or Scipy can be used."
   ]
  },
  {
   "cell_type": "code",
   "execution_count": null,
   "id": "5e0c4caf",
   "metadata": {},
   "outputs": [],
   "source": [
    "polynominal_coeff=np.polyfit(S_NDCI, chla_insitu, 2)\n",
    "\n",
    "\n",
    "def NDCI_algorithm(x):\n",
    "    return 9.547 + 104.809*x + 431.976*x**2\n",
    "\n",
    "NDCI_v = np.vectorize(NDCI_algorithm)\n",
    "Yhat = NDCI_v(S_NDCI)\n",
    "Y = chla_insitu\n",
    "\n",
    "d1 = Y - Yhat\n",
    "d2 = Y - Y.mean()\n",
    "r2 = 1-d1.dot(d1)/d2.dot(d2)\n",
    "\n",
    "p = np.poly1d(np.polyfit(S_NDCI, chla_insitu,2))\n",
    "t = np.linspace(-0.125, 0.05, 100)\n",
    "plt.xlabel('Satellite derived NDCI')\n",
    "plt.ylabel('In-situ Chal [$mg/m^3$]')\n",
    "plt.title(f'$R^2$ = {round(r2, 2)}')\n",
    "plt.plot(S_NDCI, chla_insitu, 'o', t, p(t), '-', color='k')"
   ]
  },
  {
   "cell_type": "markdown",
   "id": "168e879d",
   "metadata": {},
   "source": [
    "Validation"
   ]
  },
  {
   "cell_type": "code",
   "execution_count": null,
   "id": "f53b4048",
   "metadata": {},
   "outputs": [],
   "source": [
    "S_NDCI_val = np.concatenate((chla_df_w5['NDCI'].values,\\\n",
    "                            chla_df_o5['NDCI'].values,\\\n",
    "                            chla_df_m5['NDCI'].values,\\\n",
    "                             np.array([chla_df_i5['NDCI'].values.mean()]),\\\n",
    "                             chla_df_e5['NDCI'].values,\\\n",
    "                             chla_df_w7['NDCI'].values,\\\n",
    "                             chla_df_o7['NDCI'].values,\\\n",
    "                             chla_df_m7['NDCI'].values,\\\n",
    "                             chla_df_i7['NDCI'].values,\\\n",
    "                         chla_df_w8['NDCI'].values,\\\n",
    "                         chla_df_o8['NDCI'].values,\\\n",
    "                         chla_df_m8['NDCI'].values,\\\n",
    "                         np.array([chla_df_i8['NDCI'].values.mean()]),\\\n",
    "                         chla_df_e8['NDCI'].values,\\\n",
    "                         chla_df_w10['NDCI'].values,\\\n",
    "                         chla_df_o10['NDCI'].values,\\\n",
    "                         chla_df_m10['NDCI'].values,\\\n",
    "                         chla_df_i10['NDCI'].values,\\\n",
    "                         chla_df_e10['NDCI'].values\\\n",
    "                        ), axis=0) \n",
    "\n",
    "chla_may = np.array([3.9182, 3.6110, 2.0985, 2.0985, 3.2866])\n",
    "chla_jul = np.array([3.2195, 4.6712, 3.4762, 4.2744])\n",
    "chla_aug = np.array([11.1313, 6.2017, 8.9199, 3.1478, 8.7450])\n",
    "chla_oct = np.array([12.2135, 9.4616, 4.5621, 13.3576, 6.7654])\n",
    "\n",
    "chla_insitu_val =np.concatenate((chla_may, chla_jul, chla_aug, chla_oct), axis=0)\n",
    "\n",
    "X_sat = NDCI_v(S_NDCI_val)\n",
    "Y_insitu = chla_insitu_val\n",
    "rmse = np.sqrt(np.mean((X_sat[1:] - Y_insitu[1:])**2))\n",
    "\n",
    "fig = plt.figure(figsize=(10.5,7), dpi=600)\n",
    "plt.xlabel('Satellite derived Chl-a [$mg/m^3$]')\n",
    "plt.ylabel('In-situ Chl-a [$mg/m^3$]')\n",
    "plt.title(f'Validation\\nRMSE = {round(rmse, 2)}')\n",
    "plt.scatter(X_sat[:], Y_insitu[:], color='k')"
   ]
  },
  {
   "cell_type": "markdown",
   "id": "6fac9c0b",
   "metadata": {},
   "source": [
    "## Creating a time-series\n",
    "Extracted information from satellite imagery can be converted into a Pandas dataframe, with which a time-series plotting can be done."
   ]
  },
  {
   "cell_type": "code",
   "execution_count": null,
   "id": "edb61cf1",
   "metadata": {},
   "outputs": [],
   "source": [
    "fig, ax = plt.subplots(figsize=(14, 6))\n",
    "\n",
    "# Add fitting curves.\n",
    "ax.plot(chla_df_inlet['datetime'], chla_df_inlet['Chla'],\n",
    "           'k-', alpha=0.8, label='Chla - RS')\n",
    "inlet_dic = {\n",
    "    'datetime': ['2019-05-14', '2019-06-24', '2019-07-18', '2019-08-20', '2019-09-12', '2019-10-11'],\n",
    "    'Chla': [2.0985, 3.1390, 4.2744, 3.1478, 9.3652, 13.3576]\n",
    "}\n",
    "inlet_df = pd.DataFrame(inlet_dic)\n",
    "inlet_df['datetime'] = pd.to_datetime(inlet_df['datetime'])\n",
    "\n",
    "ax.scatter(inlet_df['datetime'], inlet_df['Chla'], c='None', edgecolors='k', s=200, label='Chla - 0m')"
   ]
  },
  {
   "cell_type": "markdown",
   "id": "1a986ec4",
   "metadata": {},
   "source": [
    "## Creating a mapping of a specific variable\n",
    "We can effectively obtain accurate water area using the method proposed by Donchyts et al, 2016 and the JWP database."
   ]
  },
  {
   "cell_type": "code",
   "execution_count": null,
   "id": "1be4d95a",
   "metadata": {},
   "outputs": [],
   "source": [
    "gsw = ee.Image(\"JRC/GSW1_3/GlobalSurfaceWater\")\n",
    "occurrence = gsw.select('occurrence')\n",
    "\n",
    "lake_kyoga_entire = ee.Geometry.Polygon([\n",
    "        [\n",
    "            [\n",
    "                32.4, 1.7\n",
    "            ],\n",
    "            [\n",
    "                32.4, 1.25\n",
    "            ],\n",
    "            [\n",
    "                33.5, 1.25\n",
    "            ],\n",
    "            [\n",
    "                33.5, 1.7\n",
    "            ],\n",
    "            [\n",
    "                32.4, 1.7\n",
    "            ]\n",
    "        ]\n",
    "    ])\n",
    "feature = ee.Feature(lake_kyoga_entire, {})\n",
    "roi = feature.geometry()\n",
    "\n",
    "water_mask = occurrence.gt(50).clip(roi).selfMask()\n",
    "\n",
    "jrc_fc = ras_to_vec(water_mask)\n",
    "fc_largest = jrc_fc.limit(1, 'area', False)"
   ]
  },
  {
   "cell_type": "code",
   "execution_count": null,
   "id": "2d64ec5c",
   "metadata": {},
   "outputs": [],
   "source": [
    "Sen2ImageCollection = ee.ImageCollection('COPERNICUS/S2_SR')\\\n",
    "        .filterBounds(geom)\\\n",
    "        .filterDate(startDate, endDate)\\\n",
    "        .filterMetadata('CLOUDY_PIXEL_PERCENTAGE', 'less_than', 20)\\\n",
    "        .map(cloudMasking)\n",
    "\n",
    "withWater = addWater(Sen2ImageCollection)\n",
    "withWater = withWater.divide(10000)\n",
    "updatedMaskedImage = withWater.select(S2_BANDS_2, S2_NAMES_2)\n",
    "    \n",
    "fig = plt.figure(figsize=(15, 10))\n",
    "Chla = updatedMaskedImage.expression(equation,    {'RED2':updatedMaskedImage.select('red2'),'RED':updatedMaskedImage.select('red'), 'RED4':updatedMaskedImage.select('red4')}).rename('Chla')\n",
    "\n",
    "mask = withWater.select('water').gt(0);\n",
    "ChlaMask = Chla.updateMask(mask);\n",
    "    \n",
    "ChlaVisParam={\n",
    "        'min':0,\n",
    "        'max':chla_max,\n",
    "        'palette':['152E13', '183815', '1A4216', '1C4D17', '1E5817', '206416', '237015', '257D14', '278A12', '29980F', '2BA60C', '2EB509', '31C405', '34D400', '71DD22', 'A5E544', 'D0EC66']\n",
    "    };\n",
    "\n",
    "region = [33.5, 1.25, 32.4, 1.7]\n",
    "ax = cartoee.get_map(ChlaMask.clip(fc_largest.geometry()), region=region, vis_params=ChlaVisParam)"
   ]
  }
 ],
 "metadata": {
  "jupytext": {
   "text_representation": {
    "extension": ".md",
    "format_name": "myst",
    "format_version": 0.13,
    "jupytext_version": "1.14.5"
   }
  },
  "kernelspec": {
   "display_name": "Python 3 (ipykernel)",
   "language": "python",
   "name": "python3"
  },
  "source_map": [
   12,
   25,
   36,
   40,
   63,
   68,
   88,
   91,
   109,
   114,
   118,
   139,
   142,
   180,
   185,
   199,
   205,
   237
  ]
 },
 "nbformat": 4,
 "nbformat_minor": 5
}